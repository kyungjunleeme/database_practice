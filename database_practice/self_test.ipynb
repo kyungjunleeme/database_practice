{
 "cells": [
  {
   "cell_type": "code",
   "execution_count": 1,
   "id": "6ce4904f",
   "metadata": {},
   "outputs": [],
   "source": [
    "import os\n",
    "import django\n",
    "os.environ[\"DJANGO_ALLOW_ASYNC_UNSAFE\"] = \"true\"\n",
    "django.setup()"
   ]
  },
  {
   "cell_type": "code",
   "execution_count": 2,
   "id": "3e5bb8dd",
   "metadata": {},
   "outputs": [
    {
     "data": {
      "text/plain": [
       "<Posting: Posting object (1)>"
      ]
     },
     "execution_count": 2,
     "metadata": {},
     "output_type": "execute_result"
    }
   ],
   "source": [
    "Posting.objects.create(name=\"kyungjun\", content=\"개발자취업하다\")"
   ]
  },
  {
   "cell_type": "code",
   "execution_count": 3,
   "id": "55257c7d",
   "metadata": {},
   "outputs": [
    {
     "data": {
      "text/plain": [
       "<Posting: Posting object (2)>"
      ]
     },
     "execution_count": 3,
     "metadata": {},
     "output_type": "execute_result"
    }
   ],
   "source": [
    "Posting.objects.create(name=\"jiyoung\", content=\"로또 당첨되다\")"
   ]
  },
  {
   "cell_type": "code",
   "execution_count": 5,
   "id": "30a54239",
   "metadata": {},
   "outputs": [],
   "source": [
    "from django.conf import settings"
   ]
  },
  {
   "cell_type": "code",
   "execution_count": 6,
   "id": "4bcad102",
   "metadata": {},
   "outputs": [
    {
     "data": {
      "text/plain": [
       "'auth.User'"
      ]
     },
     "execution_count": 6,
     "metadata": {},
     "output_type": "execute_result"
    }
   ],
   "source": [
    "settings.AUTH_USER_MODEL"
   ]
  },
  {
   "cell_type": "code",
   "execution_count": 10,
   "id": "fa146149",
   "metadata": {},
   "outputs": [
    {
     "data": {
      "text/plain": [
       "<QuerySet [<User: kyungjunlee>]>"
      ]
     },
     "execution_count": 10,
     "metadata": {},
     "output_type": "execute_result"
    }
   ],
   "source": [
    "User.objects.all()"
   ]
  },
  {
   "cell_type": "code",
   "execution_count": 11,
   "id": "096702c0",
   "metadata": {},
   "outputs": [
    {
     "data": {
      "text/plain": [
       "<Comment: Comment object (1)>"
      ]
     },
     "execution_count": 11,
     "metadata": {},
     "output_type": "execute_result"
    }
   ],
   "source": [
    "Comment.objects.create(posting_id=1, user_id=1, comment=\"축하한다\")"
   ]
  },
  {
   "cell_type": "code",
   "execution_count": 12,
   "id": "708c3859",
   "metadata": {},
   "outputs": [],
   "source": [
    "c = Comment.objects.get(id=1)"
   ]
  },
  {
   "cell_type": "code",
   "execution_count": 13,
   "id": "8ceaaa53",
   "metadata": {},
   "outputs": [
    {
     "data": {
      "text/plain": [
       "<Comment: Comment object (1)>"
      ]
     },
     "execution_count": 13,
     "metadata": {},
     "output_type": "execute_result"
    }
   ],
   "source": [
    "c"
   ]
  },
  {
   "cell_type": "code",
   "execution_count": 14,
   "id": "8e0d75f5",
   "metadata": {},
   "outputs": [
    {
     "data": {
      "text/plain": [
       "'축하한다'"
      ]
     },
     "execution_count": 14,
     "metadata": {},
     "output_type": "execute_result"
    }
   ],
   "source": [
    "c.comment"
   ]
  },
  {
   "cell_type": "code",
   "execution_count": 15,
   "id": "8f1f3c8d",
   "metadata": {},
   "outputs": [],
   "source": [
    "c.parent_id"
   ]
  },
  {
   "cell_type": "code",
   "execution_count": 17,
   "id": "cb982e8f",
   "metadata": {},
   "outputs": [],
   "source": [
    "c.recomment.add(Comment.objects.create(comment='대댓글달기', user_id=1, posting_id=1))\n"
   ]
  },
  {
   "cell_type": "code",
   "execution_count": 18,
   "id": "3e072435",
   "metadata": {},
   "outputs": [],
   "source": [
    "c.recomment.add(Comment.objects.create(comment='대댓글달기_1', user_id=1, posting_id=1))\n"
   ]
  },
  {
   "cell_type": "code",
   "execution_count": null,
   "id": "88095d3a",
   "metadata": {},
   "outputs": [],
   "source": []
  }
 ],
 "metadata": {
  "kernelspec": {
   "display_name": "Django Shell-Plus",
   "language": "python",
   "name": "django_extensions"
  },
  "language_info": {
   "codemirror_mode": {
    "name": "ipython",
    "version": 3
   },
   "file_extension": ".py",
   "mimetype": "text/x-python",
   "name": "python",
   "nbconvert_exporter": "python",
   "pygments_lexer": "ipython3",
   "version": "3.10.1"
  }
 },
 "nbformat": 4,
 "nbformat_minor": 5
}
