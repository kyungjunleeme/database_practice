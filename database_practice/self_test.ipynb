{
 "cells": [
  {
   "cell_type": "code",
   "execution_count": 1,
   "id": "6ce4904f",
   "metadata": {},
   "outputs": [],
   "source": [
    "import os\n",
    "import django\n",
    "os.environ[\"DJANGO_ALLOW_ASYNC_UNSAFE\"] = \"true\"\n",
    "django.setup()"
   ]
  },
  {
   "cell_type": "code",
   "execution_count": 2,
   "id": "25ab029b",
   "metadata": {},
   "outputs": [],
   "source": [
    "from poll.models import *"
   ]
  },
  {
   "cell_type": "code",
   "execution_count": 3,
   "id": "4b897976",
   "metadata": {},
   "outputs": [],
   "source": [
    "from datetime import datetime"
   ]
  },
  {
   "cell_type": "code",
   "execution_count": 4,
   "id": "c8ae4f0c",
   "metadata": {},
   "outputs": [],
   "source": [
    "base_date = datetime(2016, 6, 30, 15, 18, 38)\n",
    "\n",
    "    #question_text = models.CharField(max_length=200)\n",
    "    #pub_date = models.DateTimeField('date published')"
   ]
  },
  {
   "cell_type": "code",
   "execution_count": 5,
   "id": "d2799e8f",
   "metadata": {},
   "outputs": [
    {
     "name": "stderr",
     "output_type": "stream",
     "text": [
      "/Users/kyungjunlee/git_project/personal/database_practice/.env/lib/python3.10/site-packages/django/db/models/fields/__init__.py:1409: RuntimeWarning: DateTimeField Question.pub_date received a naive datetime (2016-06-30 15:18:38) while time zone support is active.\n",
      "  warnings.warn(\"DateTimeField %s received a naive datetime (%s)\"\n"
     ]
    }
   ],
   "source": [
    "new = Question.objects.create(question_text='질문1', pub_date=base_date)"
   ]
  },
  {
   "cell_type": "code",
   "execution_count": 9,
   "id": "b808a222",
   "metadata": {},
   "outputs": [
    {
     "ename": "AttributeError",
     "evalue": "'Question' object has no attribute 'query'",
     "output_type": "error",
     "traceback": [
      "\u001b[0;31m---------------------------------------------------------------------------\u001b[0m",
      "\u001b[0;31mAttributeError\u001b[0m                            Traceback (most recent call last)",
      "Input \u001b[0;32mIn [9]\u001b[0m, in \u001b[0;36m<module>\u001b[0;34m\u001b[0m\n\u001b[0;32m----> 1\u001b[0m \u001b[43mnew\u001b[49m\u001b[38;5;241;43m.\u001b[39;49m\u001b[43mquery\u001b[49m\n",
      "\u001b[0;31mAttributeError\u001b[0m: 'Question' object has no attribute 'query'"
     ]
    }
   ],
   "source": [
    "new.query"
   ]
  },
  {
   "cell_type": "code",
   "execution_count": 2,
   "id": "3e5bb8dd",
   "metadata": {},
   "outputs": [
    {
     "data": {
      "text/plain": [
       "<Posting: Posting object (1)>"
      ]
     },
     "execution_count": 2,
     "metadata": {},
     "output_type": "execute_result"
    }
   ],
   "source": [
    "Posting.objects.create(name=\"kyungjun\", content=\"개발자취업하다\")"
   ]
  },
  {
   "cell_type": "code",
   "execution_count": null,
   "id": "c1572615",
   "metadata": {},
   "outputs": [],
   "source": []
  },
  {
   "cell_type": "code",
   "execution_count": 3,
   "id": "55257c7d",
   "metadata": {},
   "outputs": [
    {
     "data": {
      "text/plain": [
       "<Posting: Posting object (2)>"
      ]
     },
     "execution_count": 3,
     "metadata": {},
     "output_type": "execute_result"
    }
   ],
   "source": [
    "Posting.objects.create(name=\"jiyoung\", content=\"로또 당첨되다\")"
   ]
  },
  {
   "cell_type": "code",
   "execution_count": 5,
   "id": "30a54239",
   "metadata": {},
   "outputs": [],
   "source": [
    "from django.conf import settings"
   ]
  },
  {
   "cell_type": "code",
   "execution_count": 6,
   "id": "4bcad102",
   "metadata": {},
   "outputs": [
    {
     "data": {
      "text/plain": [
       "'auth.User'"
      ]
     },
     "execution_count": 6,
     "metadata": {},
     "output_type": "execute_result"
    }
   ],
   "source": [
    "settings.AUTH_USER_MODEL"
   ]
  },
  {
   "cell_type": "code",
   "execution_count": 10,
   "id": "fa146149",
   "metadata": {},
   "outputs": [
    {
     "data": {
      "text/plain": [
       "<QuerySet [<User: kyungjunlee>]>"
      ]
     },
     "execution_count": 10,
     "metadata": {},
     "output_type": "execute_result"
    }
   ],
   "source": [
    "User.objects.all()"
   ]
  },
  {
   "cell_type": "code",
   "execution_count": 11,
   "id": "096702c0",
   "metadata": {},
   "outputs": [
    {
     "data": {
      "text/plain": [
       "<Comment: Comment object (1)>"
      ]
     },
     "execution_count": 11,
     "metadata": {},
     "output_type": "execute_result"
    }
   ],
   "source": [
    "Comment.objects.create(posting_id=1, user_id=1, comment=\"축하한다\")"
   ]
  },
  {
   "cell_type": "code",
   "execution_count": 12,
   "id": "708c3859",
   "metadata": {},
   "outputs": [],
   "source": [
    "c = Comment.objects.get(id=1)"
   ]
  },
  {
   "cell_type": "code",
   "execution_count": 13,
   "id": "8ceaaa53",
   "metadata": {},
   "outputs": [
    {
     "data": {
      "text/plain": [
       "<Comment: Comment object (1)>"
      ]
     },
     "execution_count": 13,
     "metadata": {},
     "output_type": "execute_result"
    }
   ],
   "source": [
    "c"
   ]
  },
  {
   "cell_type": "code",
   "execution_count": 14,
   "id": "8e0d75f5",
   "metadata": {},
   "outputs": [
    {
     "data": {
      "text/plain": [
       "'축하한다'"
      ]
     },
     "execution_count": 14,
     "metadata": {},
     "output_type": "execute_result"
    }
   ],
   "source": [
    "c.comment"
   ]
  },
  {
   "cell_type": "code",
   "execution_count": 15,
   "id": "8f1f3c8d",
   "metadata": {},
   "outputs": [],
   "source": [
    "c.parent_id"
   ]
  },
  {
   "cell_type": "code",
   "execution_count": 17,
   "id": "cb982e8f",
   "metadata": {},
   "outputs": [],
   "source": [
    "c.recomment.add(Comment.objects.create(comment='대댓글달기', user_id=1, posting_id=1))\n"
   ]
  },
  {
   "cell_type": "code",
   "execution_count": 18,
   "id": "3e072435",
   "metadata": {},
   "outputs": [],
   "source": [
    "c.recomment.add(Comment.objects.create(comment='대댓글달기_1', user_id=1, posting_id=1))\n"
   ]
  },
  {
   "cell_type": "code",
   "execution_count": null,
   "id": "88095d3a",
   "metadata": {},
   "outputs": [],
   "source": []
  }
 ],
 "metadata": {
  "kernelspec": {
   "display_name": "Django Shell-Plus",
   "language": "python",
   "name": "django_extensions"
  },
  "language_info": {
   "codemirror_mode": {
    "name": "ipython",
    "version": 3
   },
   "file_extension": ".py",
   "mimetype": "text/x-python",
   "name": "python",
   "nbconvert_exporter": "python",
   "pygments_lexer": "ipython3",
   "version": "3.10.1"
  }
 },
 "nbformat": 4,
 "nbformat_minor": 5
}
